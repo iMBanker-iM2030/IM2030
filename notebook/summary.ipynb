{
 "cells": [
  {
   "cell_type": "code",
   "execution_count": 1,
   "id": "501aa11f-dbd0-455b-a42c-fd4510053f37",
   "metadata": {},
   "outputs": [],
   "source": [
    "import pandas as pd\n",
    "import numpy as np\n",
    "import seaborn as sns\n",
    "import matplotlib.pyplot as plt"
   ]
  },
  {
   "cell_type": "code",
   "execution_count": 2,
   "id": "6a171a14",
   "metadata": {},
   "outputs": [],
   "source": [
    "YEAR = 2021"
   ]
  },
  {
   "cell_type": "code",
   "execution_count": 3,
   "id": "9ccf64c2-7f28-42d8-9f71-5098e8f3438e",
   "metadata": {},
   "outputs": [],
   "source": [
    "def read_file(year):\n",
    "    PATH = f'../dataset/imbank_customer_data/iMBANK_CUSTOMER_DATA_{year}(K-DigitalTraining).csv'\n",
    "    df = pd.read_csv(PATH, encoding='euc-kr', usecols=['기준년월', '고객ID', '연령대'])\n",
    "    df = df.sort_values(by='기준년월', ascending=True).reset_index(drop=True)\n",
    "    return df\n",
    "\n",
    "CS = read_file(YEAR)"
   ]
  },
  {
   "cell_type": "code",
   "execution_count": 4,
   "id": "0c2c56c0-0c86-436c-b42d-d8bb3f3b8136",
   "metadata": {},
   "outputs": [],
   "source": [
    "def read_file1(year):\n",
    "    PATH = f'../dataset/imbank_card_data/iMBANK_CARD_DATA_{year}(K-DigitalTraining).csv'\n",
    "    df = pd.read_csv(PATH, encoding='euc-kr', usecols=['거래년월', '고객ID'])\n",
    "    df = df.sort_values(by='거래년월', ascending=True).reset_index(drop=True)\n",
    "    return df\n",
    "C = read_file1(YEAR)"
   ]
  },
  {
   "cell_type": "code",
   "execution_count": 5,
   "id": "45e890f1-c9cd-44c4-b3c4-1f29e66a2b53",
   "metadata": {},
   "outputs": [
    {
     "data": {
      "text/html": [
       "<div>\n",
       "<style scoped>\n",
       "    .dataframe tbody tr th:only-of-type {\n",
       "        vertical-align: middle;\n",
       "    }\n",
       "\n",
       "    .dataframe tbody tr th {\n",
       "        vertical-align: top;\n",
       "    }\n",
       "\n",
       "    .dataframe thead th {\n",
       "        text-align: right;\n",
       "    }\n",
       "</style>\n",
       "<table border=\"1\" class=\"dataframe\">\n",
       "  <thead>\n",
       "    <tr style=\"text-align: right;\">\n",
       "      <th></th>\n",
       "      <th>고객ID</th>\n",
       "      <th>마지막 거래년월</th>\n",
       "    </tr>\n",
       "  </thead>\n",
       "  <tbody>\n",
       "    <tr>\n",
       "      <th>760613</th>\n",
       "      <td>9999918728</td>\n",
       "      <td>202111</td>\n",
       "    </tr>\n",
       "    <tr>\n",
       "      <th>760614</th>\n",
       "      <td>9999933174</td>\n",
       "      <td>202109</td>\n",
       "    </tr>\n",
       "    <tr>\n",
       "      <th>760615</th>\n",
       "      <td>9999972286</td>\n",
       "      <td>202101</td>\n",
       "    </tr>\n",
       "    <tr>\n",
       "      <th>760616</th>\n",
       "      <td>9999981183</td>\n",
       "      <td>202111</td>\n",
       "    </tr>\n",
       "    <tr>\n",
       "      <th>760617</th>\n",
       "      <td>9999998161</td>\n",
       "      <td>202111</td>\n",
       "    </tr>\n",
       "  </tbody>\n",
       "</table>\n",
       "</div>"
      ],
      "text/plain": [
       "              고객ID  마지막 거래년월\n",
       "760613  9999918728    202111\n",
       "760614  9999933174    202109\n",
       "760615  9999972286    202101\n",
       "760616  9999981183    202111\n",
       "760617  9999998161    202111"
      ]
     },
     "execution_count": 5,
     "metadata": {},
     "output_type": "execute_result"
    }
   ],
   "source": [
    "# 거래년월이 202212 이전인 데이터 필터링 -> 12월 안가져가도 되나???? \n",
    "filtered_data = C[C['거래년월'] < int(f\"{YEAR}12\")]\n",
    "\n",
    "# 마지막 거래년월 찾기\n",
    "last_transaction = filtered_data.groupby('고객ID')['거래년월'].max().reset_index()\n",
    "last_transaction.columns = ['고객ID', '마지막 거래년월']\n",
    "last_transaction.tail()"
   ]
  },
  {
   "cell_type": "code",
   "execution_count": 6,
   "id": "b3e94ea0-b45f-45ca-af5a-7d24c915a974",
   "metadata": {},
   "outputs": [
    {
     "data": {
      "text/html": [
       "<div>\n",
       "<style scoped>\n",
       "    .dataframe tbody tr th:only-of-type {\n",
       "        vertical-align: middle;\n",
       "    }\n",
       "\n",
       "    .dataframe tbody tr th {\n",
       "        vertical-align: top;\n",
       "    }\n",
       "\n",
       "    .dataframe thead th {\n",
       "        text-align: right;\n",
       "    }\n",
       "</style>\n",
       "<table border=\"1\" class=\"dataframe\">\n",
       "  <thead>\n",
       "    <tr style=\"text-align: right;\">\n",
       "      <th></th>\n",
       "      <th>거래년월</th>\n",
       "      <th>고객ID</th>\n",
       "      <th>마지막 거래년월</th>\n",
       "    </tr>\n",
       "  </thead>\n",
       "  <tbody>\n",
       "    <tr>\n",
       "      <th>60641694</th>\n",
       "      <td>202112</td>\n",
       "      <td>3177078879</td>\n",
       "      <td>202111</td>\n",
       "    </tr>\n",
       "    <tr>\n",
       "      <th>60641695</th>\n",
       "      <td>202112</td>\n",
       "      <td>3205011838</td>\n",
       "      <td>202111</td>\n",
       "    </tr>\n",
       "    <tr>\n",
       "      <th>60641696</th>\n",
       "      <td>202112</td>\n",
       "      <td>3055061788</td>\n",
       "      <td>202111</td>\n",
       "    </tr>\n",
       "    <tr>\n",
       "      <th>60641697</th>\n",
       "      <td>202112</td>\n",
       "      <td>2931907302</td>\n",
       "      <td>202111</td>\n",
       "    </tr>\n",
       "    <tr>\n",
       "      <th>60641698</th>\n",
       "      <td>202112</td>\n",
       "      <td>2950007638</td>\n",
       "      <td>202111</td>\n",
       "    </tr>\n",
       "    <tr>\n",
       "      <th>60641699</th>\n",
       "      <td>202112</td>\n",
       "      <td>2914424833</td>\n",
       "      <td>202111</td>\n",
       "    </tr>\n",
       "    <tr>\n",
       "      <th>60641700</th>\n",
       "      <td>202112</td>\n",
       "      <td>4116127380</td>\n",
       "      <td>202111</td>\n",
       "    </tr>\n",
       "    <tr>\n",
       "      <th>60641701</th>\n",
       "      <td>202112</td>\n",
       "      <td>9580341295</td>\n",
       "      <td>202111</td>\n",
       "    </tr>\n",
       "    <tr>\n",
       "      <th>60641702</th>\n",
       "      <td>202112</td>\n",
       "      <td>9444540701</td>\n",
       "      <td>202111</td>\n",
       "    </tr>\n",
       "    <tr>\n",
       "      <th>60641703</th>\n",
       "      <td>202112</td>\n",
       "      <td>7938809932</td>\n",
       "      <td>202111</td>\n",
       "    </tr>\n",
       "    <tr>\n",
       "      <th>60641704</th>\n",
       "      <td>202112</td>\n",
       "      <td>6644991680</td>\n",
       "      <td>202111</td>\n",
       "    </tr>\n",
       "    <tr>\n",
       "      <th>60641705</th>\n",
       "      <td>202112</td>\n",
       "      <td>5790065299</td>\n",
       "      <td>202111</td>\n",
       "    </tr>\n",
       "    <tr>\n",
       "      <th>60641706</th>\n",
       "      <td>202112</td>\n",
       "      <td>4080934272</td>\n",
       "      <td>202111</td>\n",
       "    </tr>\n",
       "    <tr>\n",
       "      <th>60641707</th>\n",
       "      <td>202112</td>\n",
       "      <td>3914344194</td>\n",
       "      <td>202111</td>\n",
       "    </tr>\n",
       "    <tr>\n",
       "      <th>60641708</th>\n",
       "      <td>202112</td>\n",
       "      <td>9288534990</td>\n",
       "      <td>202111</td>\n",
       "    </tr>\n",
       "  </tbody>\n",
       "</table>\n",
       "</div>"
      ],
      "text/plain": [
       "            거래년월        고객ID  마지막 거래년월\n",
       "60641694  202112  3177078879    202111\n",
       "60641695  202112  3205011838    202111\n",
       "60641696  202112  3055061788    202111\n",
       "60641697  202112  2931907302    202111\n",
       "60641698  202112  2950007638    202111\n",
       "60641699  202112  2914424833    202111\n",
       "60641700  202112  4116127380    202111\n",
       "60641701  202112  9580341295    202111\n",
       "60641702  202112  9444540701    202111\n",
       "60641703  202112  7938809932    202111\n",
       "60641704  202112  6644991680    202111\n",
       "60641705  202112  5790065299    202111\n",
       "60641706  202112  4080934272    202111\n",
       "60641707  202112  3914344194    202111\n",
       "60641708  202112  9288534990    202111"
      ]
     },
     "execution_count": 6,
     "metadata": {},
     "output_type": "execute_result"
    }
   ],
   "source": [
    "# 고객ID 기준 Data_frame merge\n",
    "merge_card = pd.merge(C, last_transaction, on='고객ID', how='inner')\n",
    "merge_card.tail(15)"
   ]
  },
  {
   "cell_type": "code",
   "execution_count": 7,
   "id": "eb54da53",
   "metadata": {},
   "outputs": [
    {
     "data": {
      "text/plain": [
       "(60641709, 3)"
      ]
     },
     "execution_count": 7,
     "metadata": {},
     "output_type": "execute_result"
    }
   ],
   "source": [
    "merge_card.shape"
   ]
  },
  {
   "cell_type": "code",
   "execution_count": 8,
   "id": "af61489f-ee23-4cc1-abdd-92d403c15b5a",
   "metadata": {},
   "outputs": [],
   "source": [
    "# 거래이후 소요시간 계산 \n",
    "current_year_month = int(f'{YEAR}11')\n",
    "merge_card['거래이후소요기간'] = ((current_year_month // 100 - merge_card['마지막 거래년월'] // 100) * 12 +\n",
    "                                        (current_year_month % 100 - merge_card['마지막 거래년월'] % 100))"
   ]
  },
  {
   "cell_type": "code",
   "execution_count": 9,
   "id": "0d0056b3-42c3-42b0-b9f4-abbf8d30de75",
   "metadata": {},
   "outputs": [],
   "source": [
    "# 거래년월 컬럼 삭제 \n",
    "new_card = merge_card.drop(columns=['거래년월'])"
   ]
  },
  {
   "cell_type": "code",
   "execution_count": 10,
   "id": "939734b5-c2c6-4d1a-8327-bbace6a4df37",
   "metadata": {},
   "outputs": [
    {
     "name": "stdout",
     "output_type": "stream",
     "text": [
      "<class 'pandas.core.frame.DataFrame'>\n",
      "RangeIndex: 760618 entries, 0 to 760617\n",
      "Data columns (total 3 columns):\n",
      " #   Column    Non-Null Count   Dtype\n",
      "---  ------    --------------   -----\n",
      " 0   고객ID      760618 non-null  int64\n",
      " 1   마지막 거래년월  760618 non-null  int64\n",
      " 2   거래이후소요기간  760618 non-null  int64\n",
      "dtypes: int64(3)\n",
      "memory usage: 17.4 MB\n"
     ]
    }
   ],
   "source": [
    "#마지막컬럼 남기고 중복 제거 -> 거래이후소요기간은 동일 값이라 정렬 필요 없음\n",
    "new_card = new_card.drop_duplicates(subset='고객ID', keep='last').reset_index(drop=True)\n",
    "new_card.info()"
   ]
  },
  {
   "cell_type": "code",
   "execution_count": 11,
   "id": "c6d4330a",
   "metadata": {},
   "outputs": [
    {
     "data": {
      "text/plain": [
       "(760618, 3)"
      ]
     },
     "execution_count": 11,
     "metadata": {},
     "output_type": "execute_result"
    }
   ],
   "source": [
    "new_card.shape"
   ]
  },
  {
   "cell_type": "code",
   "execution_count": 12,
   "id": "09ce4343-c3fa-4062-bbca-a676466c04a6",
   "metadata": {},
   "outputs": [],
   "source": [
    "# 이탈 여부 판단\n",
    "new_card['이탈여부'] = np.where(new_card['거래이후소요기간'] > 1,'이탈', '유지')"
   ]
  },
  {
   "cell_type": "code",
   "execution_count": 13,
   "id": "8d07d50b-89a0-4560-a5e7-d3be8920d8af",
   "metadata": {},
   "outputs": [
    {
     "data": {
      "text/html": [
       "<div>\n",
       "<style scoped>\n",
       "    .dataframe tbody tr th:only-of-type {\n",
       "        vertical-align: middle;\n",
       "    }\n",
       "\n",
       "    .dataframe tbody tr th {\n",
       "        vertical-align: top;\n",
       "    }\n",
       "\n",
       "    .dataframe thead th {\n",
       "        text-align: right;\n",
       "    }\n",
       "</style>\n",
       "<table border=\"1\" class=\"dataframe\">\n",
       "  <thead>\n",
       "    <tr style=\"text-align: right;\">\n",
       "      <th></th>\n",
       "      <th>고객ID</th>\n",
       "      <th>마지막 거래년월</th>\n",
       "      <th>거래이후소요기간</th>\n",
       "    </tr>\n",
       "    <tr>\n",
       "      <th>이탈여부</th>\n",
       "      <th></th>\n",
       "      <th></th>\n",
       "      <th></th>\n",
       "    </tr>\n",
       "  </thead>\n",
       "  <tbody>\n",
       "    <tr>\n",
       "      <th>유지</th>\n",
       "      <td>614897</td>\n",
       "      <td>614897</td>\n",
       "      <td>614897</td>\n",
       "    </tr>\n",
       "    <tr>\n",
       "      <th>이탈</th>\n",
       "      <td>145721</td>\n",
       "      <td>145721</td>\n",
       "      <td>145721</td>\n",
       "    </tr>\n",
       "  </tbody>\n",
       "</table>\n",
       "</div>"
      ],
      "text/plain": [
       "        고객ID  마지막 거래년월  거래이후소요기간\n",
       "이탈여부                            \n",
       "유지    614897    614897    614897\n",
       "이탈    145721    145721    145721"
      ]
     },
     "execution_count": 13,
     "metadata": {},
     "output_type": "execute_result"
    }
   ],
   "source": [
    "new_card.groupby(['이탈여부']).count()"
   ]
  },
  {
   "cell_type": "code",
   "execution_count": 14,
   "id": "15edb452-0942-4352-a079-d536ef0209f3",
   "metadata": {},
   "outputs": [],
   "source": [
    "# CS 데이터 기준년월컬럼 삭제 및 고객ID 중복 거거\n",
    "CS = CS.drop(columns='기준년월')"
   ]
  },
  {
   "cell_type": "code",
   "execution_count": 15,
   "id": "49597f18-143b-4fa0-914f-ba9025c3cc34",
   "metadata": {},
   "outputs": [
    {
     "data": {
      "text/html": [
       "<div>\n",
       "<style scoped>\n",
       "    .dataframe tbody tr th:only-of-type {\n",
       "        vertical-align: middle;\n",
       "    }\n",
       "\n",
       "    .dataframe tbody tr th {\n",
       "        vertical-align: top;\n",
       "    }\n",
       "\n",
       "    .dataframe thead th {\n",
       "        text-align: right;\n",
       "    }\n",
       "</style>\n",
       "<table border=\"1\" class=\"dataframe\">\n",
       "  <thead>\n",
       "    <tr style=\"text-align: right;\">\n",
       "      <th></th>\n",
       "      <th>고객ID</th>\n",
       "      <th>마지막 거래년월</th>\n",
       "      <th>거래이후소요기간</th>\n",
       "      <th>이탈여부</th>\n",
       "      <th>연령대</th>\n",
       "    </tr>\n",
       "  </thead>\n",
       "  <tbody>\n",
       "    <tr>\n",
       "      <th>0</th>\n",
       "      <td>5558279370</td>\n",
       "      <td>202101</td>\n",
       "      <td>10</td>\n",
       "      <td>이탈</td>\n",
       "      <td>30대</td>\n",
       "    </tr>\n",
       "    <tr>\n",
       "      <th>1</th>\n",
       "      <td>5971116803</td>\n",
       "      <td>202101</td>\n",
       "      <td>10</td>\n",
       "      <td>이탈</td>\n",
       "      <td>40대</td>\n",
       "    </tr>\n",
       "    <tr>\n",
       "      <th>2</th>\n",
       "      <td>3152683788</td>\n",
       "      <td>202101</td>\n",
       "      <td>10</td>\n",
       "      <td>이탈</td>\n",
       "      <td>50대</td>\n",
       "    </tr>\n",
       "    <tr>\n",
       "      <th>3</th>\n",
       "      <td>9812943452</td>\n",
       "      <td>202101</td>\n",
       "      <td>10</td>\n",
       "      <td>이탈</td>\n",
       "      <td>60대이상</td>\n",
       "    </tr>\n",
       "    <tr>\n",
       "      <th>4</th>\n",
       "      <td>4665400531</td>\n",
       "      <td>202101</td>\n",
       "      <td>10</td>\n",
       "      <td>이탈</td>\n",
       "      <td>20대</td>\n",
       "    </tr>\n",
       "  </tbody>\n",
       "</table>\n",
       "</div>"
      ],
      "text/plain": [
       "         고객ID  마지막 거래년월  거래이후소요기간 이탈여부    연령대\n",
       "0  5558279370    202101        10   이탈    30대\n",
       "1  5971116803    202101        10   이탈    40대\n",
       "2  3152683788    202101        10   이탈    50대\n",
       "3  9812943452    202101        10   이탈  60대이상\n",
       "4  4665400531    202101        10   이탈    20대"
      ]
     },
     "execution_count": 15,
     "metadata": {},
     "output_type": "execute_result"
    }
   ],
   "source": [
    "# card_2023 & CS_2023 merge\n",
    "last = new_card.merge(CS, on=['고객ID'], how='inner')\n",
    "\n",
    "# 고객 ID 중복 제거\n",
    "last = last.drop_duplicates(subset='고객ID', keep='last').reset_index(drop=True)\n",
    "last.head()"
   ]
  },
  {
   "cell_type": "code",
   "execution_count": 16,
   "id": "a6a5c518",
   "metadata": {},
   "outputs": [
    {
     "data": {
      "text/plain": [
       "(750765, 5)"
      ]
     },
     "execution_count": 16,
     "metadata": {},
     "output_type": "execute_result"
    }
   ],
   "source": [
    "last.shape"
   ]
  },
  {
   "cell_type": "code",
   "execution_count": 17,
   "id": "585237db-bcf6-4959-8e1d-fe8c3bc5d02e",
   "metadata": {},
   "outputs": [],
   "source": [
    "# 서머리 결과 DF 형태로 저장\n",
    "summary = pd.DataFrame(last.groupby(['이탈여부','연령대'])['고객ID'].count())\n",
    "summary = summary.reset_index()"
   ]
  },
  {
   "cell_type": "code",
   "execution_count": 18,
   "id": "5ef62de8-9ba5-42eb-a26f-717ba81ba66a",
   "metadata": {},
   "outputs": [
    {
     "data": {
      "text/html": [
       "<div>\n",
       "<style scoped>\n",
       "    .dataframe tbody tr th:only-of-type {\n",
       "        vertical-align: middle;\n",
       "    }\n",
       "\n",
       "    .dataframe tbody tr th {\n",
       "        vertical-align: top;\n",
       "    }\n",
       "\n",
       "    .dataframe thead th {\n",
       "        text-align: right;\n",
       "    }\n",
       "</style>\n",
       "<table border=\"1\" class=\"dataframe\">\n",
       "  <thead>\n",
       "    <tr style=\"text-align: right;\">\n",
       "      <th></th>\n",
       "      <th>이탈여부</th>\n",
       "      <th>연령대</th>\n",
       "      <th>고객ID</th>\n",
       "      <th>비율</th>\n",
       "    </tr>\n",
       "  </thead>\n",
       "  <tbody>\n",
       "    <tr>\n",
       "      <th>0</th>\n",
       "      <td>유지</td>\n",
       "      <td>10대미만</td>\n",
       "      <td>31139</td>\n",
       "      <td>0.051355</td>\n",
       "    </tr>\n",
       "    <tr>\n",
       "      <th>1</th>\n",
       "      <td>유지</td>\n",
       "      <td>20대</td>\n",
       "      <td>96452</td>\n",
       "      <td>0.159071</td>\n",
       "    </tr>\n",
       "    <tr>\n",
       "      <th>2</th>\n",
       "      <td>유지</td>\n",
       "      <td>30대</td>\n",
       "      <td>82866</td>\n",
       "      <td>0.136664</td>\n",
       "    </tr>\n",
       "    <tr>\n",
       "      <th>3</th>\n",
       "      <td>유지</td>\n",
       "      <td>40대</td>\n",
       "      <td>112408</td>\n",
       "      <td>0.185386</td>\n",
       "    </tr>\n",
       "    <tr>\n",
       "      <th>4</th>\n",
       "      <td>유지</td>\n",
       "      <td>50대</td>\n",
       "      <td>138473</td>\n",
       "      <td>0.228373</td>\n",
       "    </tr>\n",
       "    <tr>\n",
       "      <th>5</th>\n",
       "      <td>유지</td>\n",
       "      <td>60대이상</td>\n",
       "      <td>145009</td>\n",
       "      <td>0.239152</td>\n",
       "    </tr>\n",
       "    <tr>\n",
       "      <th>6</th>\n",
       "      <td>이탈</td>\n",
       "      <td>10대미만</td>\n",
       "      <td>6396</td>\n",
       "      <td>0.044288</td>\n",
       "    </tr>\n",
       "    <tr>\n",
       "      <th>7</th>\n",
       "      <td>이탈</td>\n",
       "      <td>20대</td>\n",
       "      <td>29321</td>\n",
       "      <td>0.203029</td>\n",
       "    </tr>\n",
       "    <tr>\n",
       "      <th>8</th>\n",
       "      <td>이탈</td>\n",
       "      <td>30대</td>\n",
       "      <td>24527</td>\n",
       "      <td>0.169833</td>\n",
       "    </tr>\n",
       "    <tr>\n",
       "      <th>9</th>\n",
       "      <td>이탈</td>\n",
       "      <td>40대</td>\n",
       "      <td>28745</td>\n",
       "      <td>0.199040</td>\n",
       "    </tr>\n",
       "    <tr>\n",
       "      <th>10</th>\n",
       "      <td>이탈</td>\n",
       "      <td>50대</td>\n",
       "      <td>28453</td>\n",
       "      <td>0.197018</td>\n",
       "    </tr>\n",
       "    <tr>\n",
       "      <th>11</th>\n",
       "      <td>이탈</td>\n",
       "      <td>60대이상</td>\n",
       "      <td>26976</td>\n",
       "      <td>0.186791</td>\n",
       "    </tr>\n",
       "  </tbody>\n",
       "</table>\n",
       "</div>"
      ],
      "text/plain": [
       "   이탈여부    연령대    고객ID        비율\n",
       "0    유지  10대미만   31139  0.051355\n",
       "1    유지    20대   96452  0.159071\n",
       "2    유지    30대   82866  0.136664\n",
       "3    유지    40대  112408  0.185386\n",
       "4    유지    50대  138473  0.228373\n",
       "5    유지  60대이상  145009  0.239152\n",
       "6    이탈  10대미만    6396  0.044288\n",
       "7    이탈    20대   29321  0.203029\n",
       "8    이탈    30대   24527  0.169833\n",
       "9    이탈    40대   28745  0.199040\n",
       "10   이탈    50대   28453  0.197018\n",
       "11   이탈  60대이상   26976  0.186791"
      ]
     },
     "execution_count": 18,
     "metadata": {},
     "output_type": "execute_result"
    }
   ],
   "source": [
    "# 유지와 이탈 고객의 전체 수\n",
    "total유지 = summary[summary['이탈여부'] == '유지']['고객ID'].sum()\n",
    "total이탈 = summary[summary['이탈여부'] == '이탈']['고객ID'].sum()\n",
    "\n",
    "# 비율 계산\n",
    "summary['비율'] = summary.apply(lambda row: row['고객ID'] / total유지 if row['이탈여부'] == '유지' else\n",
    "                      (row['고객ID'] / total이탈 if row['이탈여부'] == '이탈' else 0), axis=1)\n",
    "\n",
    "# 결과 출력\n",
    "summary"
   ]
  },
  {
   "cell_type": "code",
   "execution_count": 19,
   "id": "250cdf0d-4065-43c6-a8b4-754674952b45",
   "metadata": {},
   "outputs": [
    {
     "name": "stdout",
     "output_type": "stream",
     "text": [
      "중복아님\n"
     ]
    }
   ],
   "source": [
    "# 중복 확인\n",
    "dupl = summary['고객ID'].duplicated().any()\n",
    "if dupl:\n",
    "    print('중복')\n",
    "else:\n",
    "    print('중복아님')"
   ]
  },
  {
   "cell_type": "code",
   "execution_count": 20,
   "id": "4172bbc5-a74b-49b4-96dd-f9b3d597b901",
   "metadata": {},
   "outputs": [],
   "source": [
    "# 시각화 그리기 한글폰트 가가\n",
    "plt.rc(\"font\", family = \"Malgun Gothic\")\n",
    "sns.set(font=\"Malgun Gothic\", \n",
    "rc={\"axes.unicode_minus\":False}, style='white')"
   ]
  },
  {
   "cell_type": "code",
   "execution_count": 21,
   "id": "6ce505d4",
   "metadata": {},
   "outputs": [
    {
     "data": {
      "text/html": [
       "<div>\n",
       "<style scoped>\n",
       "    .dataframe tbody tr th:only-of-type {\n",
       "        vertical-align: middle;\n",
       "    }\n",
       "\n",
       "    .dataframe tbody tr th {\n",
       "        vertical-align: top;\n",
       "    }\n",
       "\n",
       "    .dataframe thead th {\n",
       "        text-align: right;\n",
       "    }\n",
       "</style>\n",
       "<table border=\"1\" class=\"dataframe\">\n",
       "  <thead>\n",
       "    <tr style=\"text-align: right;\">\n",
       "      <th></th>\n",
       "      <th>고객ID</th>\n",
       "      <th>마지막 거래년월</th>\n",
       "      <th>거래이후소요기간</th>\n",
       "      <th>이탈여부</th>\n",
       "      <th>연령대</th>\n",
       "    </tr>\n",
       "  </thead>\n",
       "  <tbody>\n",
       "    <tr>\n",
       "      <th>0</th>\n",
       "      <td>5558279370</td>\n",
       "      <td>202101</td>\n",
       "      <td>10</td>\n",
       "      <td>이탈</td>\n",
       "      <td>30대</td>\n",
       "    </tr>\n",
       "    <tr>\n",
       "      <th>1</th>\n",
       "      <td>5971116803</td>\n",
       "      <td>202101</td>\n",
       "      <td>10</td>\n",
       "      <td>이탈</td>\n",
       "      <td>40대</td>\n",
       "    </tr>\n",
       "    <tr>\n",
       "      <th>2</th>\n",
       "      <td>3152683788</td>\n",
       "      <td>202101</td>\n",
       "      <td>10</td>\n",
       "      <td>이탈</td>\n",
       "      <td>50대</td>\n",
       "    </tr>\n",
       "    <tr>\n",
       "      <th>3</th>\n",
       "      <td>9812943452</td>\n",
       "      <td>202101</td>\n",
       "      <td>10</td>\n",
       "      <td>이탈</td>\n",
       "      <td>60대이상</td>\n",
       "    </tr>\n",
       "    <tr>\n",
       "      <th>4</th>\n",
       "      <td>4665400531</td>\n",
       "      <td>202101</td>\n",
       "      <td>10</td>\n",
       "      <td>이탈</td>\n",
       "      <td>20대</td>\n",
       "    </tr>\n",
       "    <tr>\n",
       "      <th>...</th>\n",
       "      <td>...</td>\n",
       "      <td>...</td>\n",
       "      <td>...</td>\n",
       "      <td>...</td>\n",
       "      <td>...</td>\n",
       "    </tr>\n",
       "    <tr>\n",
       "      <th>750760</th>\n",
       "      <td>6644991680</td>\n",
       "      <td>202111</td>\n",
       "      <td>0</td>\n",
       "      <td>유지</td>\n",
       "      <td>40대</td>\n",
       "    </tr>\n",
       "    <tr>\n",
       "      <th>750761</th>\n",
       "      <td>5790065299</td>\n",
       "      <td>202111</td>\n",
       "      <td>0</td>\n",
       "      <td>유지</td>\n",
       "      <td>60대이상</td>\n",
       "    </tr>\n",
       "    <tr>\n",
       "      <th>750762</th>\n",
       "      <td>4080934272</td>\n",
       "      <td>202111</td>\n",
       "      <td>0</td>\n",
       "      <td>유지</td>\n",
       "      <td>20대</td>\n",
       "    </tr>\n",
       "    <tr>\n",
       "      <th>750763</th>\n",
       "      <td>3914344194</td>\n",
       "      <td>202111</td>\n",
       "      <td>0</td>\n",
       "      <td>유지</td>\n",
       "      <td>20대</td>\n",
       "    </tr>\n",
       "    <tr>\n",
       "      <th>750764</th>\n",
       "      <td>9288534990</td>\n",
       "      <td>202111</td>\n",
       "      <td>0</td>\n",
       "      <td>유지</td>\n",
       "      <td>60대이상</td>\n",
       "    </tr>\n",
       "  </tbody>\n",
       "</table>\n",
       "<p>750765 rows × 5 columns</p>\n",
       "</div>"
      ],
      "text/plain": [
       "              고객ID  마지막 거래년월  거래이후소요기간 이탈여부    연령대\n",
       "0       5558279370    202101        10   이탈    30대\n",
       "1       5971116803    202101        10   이탈    40대\n",
       "2       3152683788    202101        10   이탈    50대\n",
       "3       9812943452    202101        10   이탈  60대이상\n",
       "4       4665400531    202101        10   이탈    20대\n",
       "...            ...       ...       ...  ...    ...\n",
       "750760  6644991680    202111         0   유지    40대\n",
       "750761  5790065299    202111         0   유지  60대이상\n",
       "750762  4080934272    202111         0   유지    20대\n",
       "750763  3914344194    202111         0   유지    20대\n",
       "750764  9288534990    202111         0   유지  60대이상\n",
       "\n",
       "[750765 rows x 5 columns]"
      ]
     },
     "execution_count": 21,
     "metadata": {},
     "output_type": "execute_result"
    }
   ],
   "source": [
    "last"
   ]
  },
  {
   "cell_type": "code",
   "execution_count": 22,
   "id": "d5180f09-1a04-4e45-94ff-a575d91b99e9",
   "metadata": {},
   "outputs": [
    {
     "data": {
      "image/png": "[encoded data removed]",
      "text/plain": [
       "<Figure size 1300x600 with 2 Axes>"
      ]
     },
     "metadata": {},
     "output_type": "display_data"
    }
   ],
   "source": [
    "fig, ax = plt.subplots(figsize = (13,6), ncols=2)\n",
    "sns.barplot(summary, x='연령대', y = '고객ID', hue='이탈여부', ax=ax[0])\n",
    "sns.barplot(summary, x='연령대', y = '비율', hue='이탈여부', ax=ax[1])\n",
    "\n",
    "ax[0].set_title(f'{YEAR}년 연령대별 수', )\n",
    "ax[1].set_title(f'{YEAR}년 연령대별 이탈 비율 (각연령대별 수 / 이탈여부별 합)')\n",
    "plt.show()"
   ]
  },
  {
   "cell_type": "code",
   "execution_count": 23,
   "id": "1df3db76-9bb1-49c2-8e58-d10c8cbcb275",
   "metadata": {},
   "outputs": [],
   "source": [
    "last.to_csv(f'../dataset/summary_{YEAR}.csv', index=False, encoding=\"utf-8-sig\")"
   ]
  }
 ],
 "metadata": {
  "kernelspec": {
   "display_name": "venv",
   "language": "python",
   "name": "python3"
  },
  "language_info": {
   "codemirror_mode": {
    "name": "ipython",
    "version": 3
   },
   "file_extension": ".py",
   "mimetype": "text/x-python",
   "name": "python",
   "nbconvert_exporter": "python",
   "pygments_lexer": "ipython3",
   "version": "3.12.6"
  }
 },
 "nbformat": 4,
 "nbformat_minor": 5
}
