{
 "cells": [
  {
   "cell_type": "code",
   "execution_count": 24,
   "id": "501aa11f-dbd0-455b-a42c-fd4510053f37",
   "metadata": {},
   "outputs": [],
   "source": [
    "import pandas as pd\n",
    "import numpy as np\n",
    "import seaborn as sns\n",
    "import matplotlib.pyplot as plt"
   ]
  },
  {
   "cell_type": "code",
   "execution_count": 25,
   "id": "6a171a14",
   "metadata": {},
   "outputs": [],
   "source": [
    "YEAR = 2022"
   ]
  },
  {
   "cell_type": "code",
   "execution_count": 26,
   "id": "9ccf64c2-7f28-42d8-9f71-5098e8f3438e",
   "metadata": {},
   "outputs": [],
   "source": [
    "def read_file(year):\n",
    "    PATH = f'../dataset/imbank_customer_data/iMBANK_CUSTOMER_DATA_{year}(K-DigitalTraining).csv'\n",
    "    df = pd.read_csv(PATH, encoding='euc-kr', usecols=['기준년월', '고객ID', '연령대'])\n",
    "    df = df.sort_values(by='기준년월', ascending=True).reset_index(drop=True)\n",
    "    return df\n",
    "\n",
    "CS = read_file(YEAR)"
   ]
  },
  {
   "cell_type": "code",
   "execution_count": 27,
   "id": "0c2c56c0-0c86-436c-b42d-d8bb3f3b8136",
   "metadata": {},
   "outputs": [],
   "source": [
    "def read_file1(year):\n",
    "    PATH = f'../dataset/imbank_card_data/iMBANK_CARD_DATA_{year}(K-DigitalTraining).csv'\n",
    "    df = pd.read_csv(PATH, encoding='euc-kr', usecols=['거래년월', '고객ID'])\n",
    "    df = df.sort_values(by='거래년월', ascending=True).reset_index(drop=True)\n",
    "    return df\n",
    "C = read_file1(YEAR)"
   ]
  },
  {
   "cell_type": "code",
   "execution_count": 28,
   "id": "45e890f1-c9cd-44c4-b3c4-1f29e66a2b53",
   "metadata": {},
   "outputs": [
    {
     "data": {
      "text/html": [
       "<div>\n",
       "<style scoped>\n",
       "    .dataframe tbody tr th:only-of-type {\n",
       "        vertical-align: middle;\n",
       "    }\n",
       "\n",
       "    .dataframe tbody tr th {\n",
       "        vertical-align: top;\n",
       "    }\n",
       "\n",
       "    .dataframe thead th {\n",
       "        text-align: right;\n",
       "    }\n",
       "</style>\n",
       "<table border=\"1\" class=\"dataframe\">\n",
       "  <thead>\n",
       "    <tr style=\"text-align: right;\">\n",
       "      <th></th>\n",
       "      <th>고객ID</th>\n",
       "      <th>마지막 거래년월</th>\n",
       "    </tr>\n",
       "  </thead>\n",
       "  <tbody>\n",
       "    <tr>\n",
       "      <th>739292</th>\n",
       "      <td>9999901937</td>\n",
       "      <td>202210</td>\n",
       "    </tr>\n",
       "    <tr>\n",
       "      <th>739293</th>\n",
       "      <td>9999918728</td>\n",
       "      <td>202209</td>\n",
       "    </tr>\n",
       "    <tr>\n",
       "      <th>739294</th>\n",
       "      <td>9999933174</td>\n",
       "      <td>202211</td>\n",
       "    </tr>\n",
       "    <tr>\n",
       "      <th>739295</th>\n",
       "      <td>9999981183</td>\n",
       "      <td>202211</td>\n",
       "    </tr>\n",
       "    <tr>\n",
       "      <th>739296</th>\n",
       "      <td>9999998161</td>\n",
       "      <td>202207</td>\n",
       "    </tr>\n",
       "  </tbody>\n",
       "</table>\n",
       "</div>"
      ],
      "text/plain": [
       "              고객ID  마지막 거래년월\n",
       "739292  9999901937    202210\n",
       "739293  9999918728    202209\n",
       "739294  9999933174    202211\n",
       "739295  9999981183    202211\n",
       "739296  9999998161    202207"
      ]
     },
     "execution_count": 28,
     "metadata": {},
     "output_type": "execute_result"
    }
   ],
   "source": [
    "# 거래년월이 202212 이전인 데이터 필터링 -> 12월 안가져가도 되나???? \n",
    "filtered_data = C[C['거래년월'] < int(f\"{YEAR}12\")]\n",
    "\n",
    "# 마지막 거래년월 찾기\n",
    "last_transaction = filtered_data.groupby('고객ID')['거래년월'].max().reset_index()\n",
    "last_transaction.columns = ['고객ID', '마지막 거래년월']\n",
    "last_transaction.tail()"
   ]
  },
  {
   "cell_type": "code",
   "execution_count": 29,
   "id": "b3e94ea0-b45f-45ca-af5a-7d24c915a974",
   "metadata": {},
   "outputs": [
    {
     "data": {
      "text/html": [
       "<div>\n",
       "<style scoped>\n",
       "    .dataframe tbody tr th:only-of-type {\n",
       "        vertical-align: middle;\n",
       "    }\n",
       "\n",
       "    .dataframe tbody tr th {\n",
       "        vertical-align: top;\n",
       "    }\n",
       "\n",
       "    .dataframe thead th {\n",
       "        text-align: right;\n",
       "    }\n",
       "</style>\n",
       "<table border=\"1\" class=\"dataframe\">\n",
       "  <thead>\n",
       "    <tr style=\"text-align: right;\">\n",
       "      <th></th>\n",
       "      <th>거래년월</th>\n",
       "      <th>고객ID</th>\n",
       "      <th>마지막 거래년월</th>\n",
       "    </tr>\n",
       "  </thead>\n",
       "  <tbody>\n",
       "    <tr>\n",
       "      <th>62915133</th>\n",
       "      <td>202212</td>\n",
       "      <td>5946674163</td>\n",
       "      <td>202211</td>\n",
       "    </tr>\n",
       "    <tr>\n",
       "      <th>62915134</th>\n",
       "      <td>202212</td>\n",
       "      <td>5939956857</td>\n",
       "      <td>202211</td>\n",
       "    </tr>\n",
       "    <tr>\n",
       "      <th>62915135</th>\n",
       "      <td>202212</td>\n",
       "      <td>5128581778</td>\n",
       "      <td>202211</td>\n",
       "    </tr>\n",
       "    <tr>\n",
       "      <th>62915136</th>\n",
       "      <td>202212</td>\n",
       "      <td>8360876341</td>\n",
       "      <td>202211</td>\n",
       "    </tr>\n",
       "    <tr>\n",
       "      <th>62915137</th>\n",
       "      <td>202212</td>\n",
       "      <td>9731736685</td>\n",
       "      <td>202211</td>\n",
       "    </tr>\n",
       "    <tr>\n",
       "      <th>62915138</th>\n",
       "      <td>202212</td>\n",
       "      <td>9468456810</td>\n",
       "      <td>202211</td>\n",
       "    </tr>\n",
       "    <tr>\n",
       "      <th>62915139</th>\n",
       "      <td>202212</td>\n",
       "      <td>9476232849</td>\n",
       "      <td>202211</td>\n",
       "    </tr>\n",
       "    <tr>\n",
       "      <th>62915140</th>\n",
       "      <td>202212</td>\n",
       "      <td>4862663803</td>\n",
       "      <td>202211</td>\n",
       "    </tr>\n",
       "    <tr>\n",
       "      <th>62915141</th>\n",
       "      <td>202212</td>\n",
       "      <td>3913986482</td>\n",
       "      <td>202211</td>\n",
       "    </tr>\n",
       "    <tr>\n",
       "      <th>62915142</th>\n",
       "      <td>202212</td>\n",
       "      <td>3673581980</td>\n",
       "      <td>202211</td>\n",
       "    </tr>\n",
       "    <tr>\n",
       "      <th>62915143</th>\n",
       "      <td>202212</td>\n",
       "      <td>3605837880</td>\n",
       "      <td>202211</td>\n",
       "    </tr>\n",
       "    <tr>\n",
       "      <th>62915144</th>\n",
       "      <td>202212</td>\n",
       "      <td>3557972915</td>\n",
       "      <td>202211</td>\n",
       "    </tr>\n",
       "    <tr>\n",
       "      <th>62915145</th>\n",
       "      <td>202212</td>\n",
       "      <td>3083154411</td>\n",
       "      <td>202211</td>\n",
       "    </tr>\n",
       "    <tr>\n",
       "      <th>62915146</th>\n",
       "      <td>202212</td>\n",
       "      <td>9963103588</td>\n",
       "      <td>202211</td>\n",
       "    </tr>\n",
       "    <tr>\n",
       "      <th>62915147</th>\n",
       "      <td>202212</td>\n",
       "      <td>5691296018</td>\n",
       "      <td>202211</td>\n",
       "    </tr>\n",
       "  </tbody>\n",
       "</table>\n",
       "</div>"
      ],
      "text/plain": [
       "            거래년월        고객ID  마지막 거래년월\n",
       "62915133  202212  5946674163    202211\n",
       "62915134  202212  5939956857    202211\n",
       "62915135  202212  5128581778    202211\n",
       "62915136  202212  8360876341    202211\n",
       "62915137  202212  9731736685    202211\n",
       "62915138  202212  9468456810    202211\n",
       "62915139  202212  9476232849    202211\n",
       "62915140  202212  4862663803    202211\n",
       "62915141  202212  3913986482    202211\n",
       "62915142  202212  3673581980    202211\n",
       "62915143  202212  3605837880    202211\n",
       "62915144  202212  3557972915    202211\n",
       "62915145  202212  3083154411    202211\n",
       "62915146  202212  9963103588    202211\n",
       "62915147  202212  5691296018    202211"
      ]
     },
     "execution_count": 29,
     "metadata": {},
     "output_type": "execute_result"
    }
   ],
   "source": [
    "# 고객ID 기준 Data_frame merge\n",
    "merge_card = pd.merge(C, last_transaction, on='고객ID', how='inner')\n",
    "merge_card.tail(15)"
   ]
  },
  {
   "cell_type": "code",
   "execution_count": 30,
   "id": "eb54da53",
   "metadata": {},
   "outputs": [
    {
     "data": {
      "text/plain": [
       "(62915148, 3)"
      ]
     },
     "execution_count": 30,
     "metadata": {},
     "output_type": "execute_result"
    }
   ],
   "source": [
    "merge_card.shape"
   ]
  },
  {
   "cell_type": "code",
   "execution_count": null,
   "id": "af61489f-ee23-4cc1-abdd-92d403c15b5a",
   "metadata": {},
   "outputs": [],
   "source": [
    "# 거래이후 소요시간 계산 \n",
    "current_year_month = int(YEAR*100 +11)\n",
    "merge_card['거래이후소요기간'] = ((current_year_month // 100 - merge_card['마지막 거래년월'] // 100) * 12 +\n",
    "                                        (current_year_month % 100 - merge_card['마지막 거래년월'] % 100))"
   ]
  },
  {
   "cell_type": "code",
   "execution_count": 32,
   "id": "0d0056b3-42c3-42b0-b9f4-abbf8d30de75",
   "metadata": {},
   "outputs": [],
   "source": [
    "# 거래년월 컬럼 삭제 \n",
    "new_card = merge_card.drop(columns=['거래년월'])"
   ]
  },
  {
   "cell_type": "code",
   "execution_count": 33,
   "id": "939734b5-c2c6-4d1a-8327-bbace6a4df37",
   "metadata": {},
   "outputs": [
    {
     "name": "stdout",
     "output_type": "stream",
     "text": [
      "<class 'pandas.core.frame.DataFrame'>\n",
      "RangeIndex: 739297 entries, 0 to 739296\n",
      "Data columns (total 3 columns):\n",
      " #   Column    Non-Null Count   Dtype\n",
      "---  ------    --------------   -----\n",
      " 0   고객ID      739297 non-null  int64\n",
      " 1   마지막 거래년월  739297 non-null  int64\n",
      " 2   거래이후소요기간  739297 non-null  int64\n",
      "dtypes: int64(3)\n",
      "memory usage: 16.9 MB\n"
     ]
    }
   ],
   "source": [
    "#마지막컬럼 남기고 중복 제거 -> 거래이후소요기간은 동일 값이라 정렬 필요 없음\n",
    "new_card = new_card.drop_duplicates(subset='고객ID', keep='last').reset_index(drop=True)\n",
    "new_card.info()"
   ]
  },
  {
   "cell_type": "code",
   "execution_count": 34,
   "id": "c6d4330a",
   "metadata": {},
   "outputs": [
    {
     "data": {
      "text/plain": [
       "(739297, 3)"
      ]
     },
     "execution_count": 34,
     "metadata": {},
     "output_type": "execute_result"
    }
   ],
   "source": [
    "new_card.shape"
   ]
  },
  {
   "cell_type": "code",
   "execution_count": 35,
   "id": "09ce4343-c3fa-4062-bbca-a676466c04a6",
   "metadata": {},
   "outputs": [],
   "source": [
    "# 이탈 여부 판단\n",
    "new_card['이탈여부'] = np.where(new_card['거래이후소요기간'] > 1,'이탈', '유지')"
   ]
  },
  {
   "cell_type": "code",
   "execution_count": 36,
   "id": "8d07d50b-89a0-4560-a5e7-d3be8920d8af",
   "metadata": {},
   "outputs": [
    {
     "data": {
      "text/html": [
       "<div>\n",
       "<style scoped>\n",
       "    .dataframe tbody tr th:only-of-type {\n",
       "        vertical-align: middle;\n",
       "    }\n",
       "\n",
       "    .dataframe tbody tr th {\n",
       "        vertical-align: top;\n",
       "    }\n",
       "\n",
       "    .dataframe thead th {\n",
       "        text-align: right;\n",
       "    }\n",
       "</style>\n",
       "<table border=\"1\" class=\"dataframe\">\n",
       "  <thead>\n",
       "    <tr style=\"text-align: right;\">\n",
       "      <th></th>\n",
       "      <th>고객ID</th>\n",
       "      <th>마지막 거래년월</th>\n",
       "      <th>거래이후소요기간</th>\n",
       "    </tr>\n",
       "    <tr>\n",
       "      <th>이탈여부</th>\n",
       "      <th></th>\n",
       "      <th></th>\n",
       "      <th></th>\n",
       "    </tr>\n",
       "  </thead>\n",
       "  <tbody>\n",
       "    <tr>\n",
       "      <th>유지</th>\n",
       "      <td>593349</td>\n",
       "      <td>593349</td>\n",
       "      <td>593349</td>\n",
       "    </tr>\n",
       "    <tr>\n",
       "      <th>이탈</th>\n",
       "      <td>145948</td>\n",
       "      <td>145948</td>\n",
       "      <td>145948</td>\n",
       "    </tr>\n",
       "  </tbody>\n",
       "</table>\n",
       "</div>"
      ],
      "text/plain": [
       "        고객ID  마지막 거래년월  거래이후소요기간\n",
       "이탈여부                            \n",
       "유지    593349    593349    593349\n",
       "이탈    145948    145948    145948"
      ]
     },
     "execution_count": 36,
     "metadata": {},
     "output_type": "execute_result"
    }
   ],
   "source": [
    "new_card.groupby(['이탈여부']).count()"
   ]
  },
  {
   "cell_type": "code",
   "execution_count": 37,
   "id": "15edb452-0942-4352-a079-d536ef0209f3",
   "metadata": {},
   "outputs": [],
   "source": [
    "# CS 데이터 기준년월컬럼 삭제 및 고객ID 중복 거거\n",
    "CS = CS.drop(columns='기준년월')"
   ]
  },
  {
   "cell_type": "code",
   "execution_count": 38,
   "id": "49597f18-143b-4fa0-914f-ba9025c3cc34",
   "metadata": {},
   "outputs": [
    {
     "data": {
      "text/html": [
       "<div>\n",
       "<style scoped>\n",
       "    .dataframe tbody tr th:only-of-type {\n",
       "        vertical-align: middle;\n",
       "    }\n",
       "\n",
       "    .dataframe tbody tr th {\n",
       "        vertical-align: top;\n",
       "    }\n",
       "\n",
       "    .dataframe thead th {\n",
       "        text-align: right;\n",
       "    }\n",
       "</style>\n",
       "<table border=\"1\" class=\"dataframe\">\n",
       "  <thead>\n",
       "    <tr style=\"text-align: right;\">\n",
       "      <th></th>\n",
       "      <th>고객ID</th>\n",
       "      <th>마지막 거래년월</th>\n",
       "      <th>거래이후소요기간</th>\n",
       "      <th>이탈여부</th>\n",
       "      <th>연령대</th>\n",
       "    </tr>\n",
       "  </thead>\n",
       "  <tbody>\n",
       "    <tr>\n",
       "      <th>0</th>\n",
       "      <td>6503145269</td>\n",
       "      <td>202201</td>\n",
       "      <td>10</td>\n",
       "      <td>이탈</td>\n",
       "      <td>60대이상</td>\n",
       "    </tr>\n",
       "    <tr>\n",
       "      <th>1</th>\n",
       "      <td>5041154752</td>\n",
       "      <td>202201</td>\n",
       "      <td>10</td>\n",
       "      <td>이탈</td>\n",
       "      <td>40대</td>\n",
       "    </tr>\n",
       "    <tr>\n",
       "      <th>2</th>\n",
       "      <td>5325693421</td>\n",
       "      <td>202201</td>\n",
       "      <td>10</td>\n",
       "      <td>이탈</td>\n",
       "      <td>60대이상</td>\n",
       "    </tr>\n",
       "    <tr>\n",
       "      <th>3</th>\n",
       "      <td>6557853606</td>\n",
       "      <td>202201</td>\n",
       "      <td>10</td>\n",
       "      <td>이탈</td>\n",
       "      <td>40대</td>\n",
       "    </tr>\n",
       "    <tr>\n",
       "      <th>4</th>\n",
       "      <td>7875215733</td>\n",
       "      <td>202201</td>\n",
       "      <td>10</td>\n",
       "      <td>이탈</td>\n",
       "      <td>60대이상</td>\n",
       "    </tr>\n",
       "  </tbody>\n",
       "</table>\n",
       "</div>"
      ],
      "text/plain": [
       "         고객ID  마지막 거래년월  거래이후소요기간 이탈여부    연령대\n",
       "0  6503145269    202201        10   이탈  60대이상\n",
       "1  5041154752    202201        10   이탈    40대\n",
       "2  5325693421    202201        10   이탈  60대이상\n",
       "3  6557853606    202201        10   이탈    40대\n",
       "4  7875215733    202201        10   이탈  60대이상"
      ]
     },
     "execution_count": 38,
     "metadata": {},
     "output_type": "execute_result"
    }
   ],
   "source": [
    "# card_2023 & CS_2023 merge\n",
    "last = new_card.merge(CS, on=['고객ID'], how='inner')\n",
    "\n",
    "# 고객 ID 중복 제거\n",
    "last = last.drop_duplicates(subset='고객ID', keep='last').reset_index(drop=True)\n",
    "last.head()"
   ]
  },
  {
   "cell_type": "code",
   "execution_count": 39,
   "id": "a6a5c518",
   "metadata": {},
   "outputs": [
    {
     "data": {
      "text/plain": [
       "(728737, 5)"
      ]
     },
     "execution_count": 39,
     "metadata": {},
     "output_type": "execute_result"
    }
   ],
   "source": [
    "last.shape"
   ]
  },
  {
   "cell_type": "code",
   "execution_count": 40,
   "id": "585237db-bcf6-4959-8e1d-fe8c3bc5d02e",
   "metadata": {},
   "outputs": [],
   "source": [
    "# 서머리 결과 DF 형태로 저장\n",
    "summary = pd.DataFrame(last.groupby(['이탈여부','연령대'])['고객ID'].count())\n",
    "summary = summary.reset_index()"
   ]
  },
  {
   "cell_type": "code",
   "execution_count": 41,
   "id": "5ef62de8-9ba5-42eb-a26f-717ba81ba66a",
   "metadata": {},
   "outputs": [
    {
     "data": {
      "text/html": [
       "<div>\n",
       "<style scoped>\n",
       "    .dataframe tbody tr th:only-of-type {\n",
       "        vertical-align: middle;\n",
       "    }\n",
       "\n",
       "    .dataframe tbody tr th {\n",
       "        vertical-align: top;\n",
       "    }\n",
       "\n",
       "    .dataframe thead th {\n",
       "        text-align: right;\n",
       "    }\n",
       "</style>\n",
       "<table border=\"1\" class=\"dataframe\">\n",
       "  <thead>\n",
       "    <tr style=\"text-align: right;\">\n",
       "      <th></th>\n",
       "      <th>이탈여부</th>\n",
       "      <th>연령대</th>\n",
       "      <th>고객ID</th>\n",
       "      <th>비율</th>\n",
       "    </tr>\n",
       "  </thead>\n",
       "  <tbody>\n",
       "    <tr>\n",
       "      <th>0</th>\n",
       "      <td>유지</td>\n",
       "      <td>10대미만</td>\n",
       "      <td>28071</td>\n",
       "      <td>0.048047</td>\n",
       "    </tr>\n",
       "    <tr>\n",
       "      <th>1</th>\n",
       "      <td>유지</td>\n",
       "      <td>20대</td>\n",
       "      <td>83168</td>\n",
       "      <td>0.142351</td>\n",
       "    </tr>\n",
       "    <tr>\n",
       "      <th>2</th>\n",
       "      <td>유지</td>\n",
       "      <td>30대</td>\n",
       "      <td>76235</td>\n",
       "      <td>0.130485</td>\n",
       "    </tr>\n",
       "    <tr>\n",
       "      <th>3</th>\n",
       "      <td>유지</td>\n",
       "      <td>40대</td>\n",
       "      <td>106119</td>\n",
       "      <td>0.181634</td>\n",
       "    </tr>\n",
       "    <tr>\n",
       "      <th>4</th>\n",
       "      <td>유지</td>\n",
       "      <td>50대</td>\n",
       "      <td>135525</td>\n",
       "      <td>0.231966</td>\n",
       "    </tr>\n",
       "    <tr>\n",
       "      <th>5</th>\n",
       "      <td>유지</td>\n",
       "      <td>60대이상</td>\n",
       "      <td>155127</td>\n",
       "      <td>0.265517</td>\n",
       "    </tr>\n",
       "    <tr>\n",
       "      <th>6</th>\n",
       "      <td>이탈</td>\n",
       "      <td>10대미만</td>\n",
       "      <td>6521</td>\n",
       "      <td>0.045131</td>\n",
       "    </tr>\n",
       "    <tr>\n",
       "      <th>7</th>\n",
       "      <td>이탈</td>\n",
       "      <td>20대</td>\n",
       "      <td>29447</td>\n",
       "      <td>0.203797</td>\n",
       "    </tr>\n",
       "    <tr>\n",
       "      <th>8</th>\n",
       "      <td>이탈</td>\n",
       "      <td>30대</td>\n",
       "      <td>23316</td>\n",
       "      <td>0.161365</td>\n",
       "    </tr>\n",
       "    <tr>\n",
       "      <th>9</th>\n",
       "      <td>이탈</td>\n",
       "      <td>40대</td>\n",
       "      <td>27659</td>\n",
       "      <td>0.191422</td>\n",
       "    </tr>\n",
       "    <tr>\n",
       "      <th>10</th>\n",
       "      <td>이탈</td>\n",
       "      <td>50대</td>\n",
       "      <td>28186</td>\n",
       "      <td>0.195070</td>\n",
       "    </tr>\n",
       "    <tr>\n",
       "      <th>11</th>\n",
       "      <td>이탈</td>\n",
       "      <td>60대이상</td>\n",
       "      <td>29363</td>\n",
       "      <td>0.203215</td>\n",
       "    </tr>\n",
       "  </tbody>\n",
       "</table>\n",
       "</div>"
      ],
      "text/plain": [
       "   이탈여부    연령대    고객ID        비율\n",
       "0    유지  10대미만   28071  0.048047\n",
       "1    유지    20대   83168  0.142351\n",
       "2    유지    30대   76235  0.130485\n",
       "3    유지    40대  106119  0.181634\n",
       "4    유지    50대  135525  0.231966\n",
       "5    유지  60대이상  155127  0.265517\n",
       "6    이탈  10대미만    6521  0.045131\n",
       "7    이탈    20대   29447  0.203797\n",
       "8    이탈    30대   23316  0.161365\n",
       "9    이탈    40대   27659  0.191422\n",
       "10   이탈    50대   28186  0.195070\n",
       "11   이탈  60대이상   29363  0.203215"
      ]
     },
     "execution_count": 41,
     "metadata": {},
     "output_type": "execute_result"
    }
   ],
   "source": [
    "# 유지와 이탈 고객의 전체 수\n",
    "total유지 = summary[summary['이탈여부'] == '유지']['고객ID'].sum()\n",
    "total이탈 = summary[summary['이탈여부'] == '이탈']['고객ID'].sum()\n",
    "\n",
    "# 비율 계산\n",
    "summary['비율'] = summary.apply(lambda row: row['고객ID'] / total유지 if row['이탈여부'] == '유지' else\n",
    "                      (row['고객ID'] / total이탈 if row['이탈여부'] == '이탈' else 0), axis=1)\n",
    "\n",
    "# 결과 출력\n",
    "summary"
   ]
  },
  {
   "cell_type": "code",
   "execution_count": 42,
   "id": "250cdf0d-4065-43c6-a8b4-754674952b45",
   "metadata": {},
   "outputs": [
    {
     "name": "stdout",
     "output_type": "stream",
     "text": [
      "중복아님\n"
     ]
    }
   ],
   "source": [
    "# 중복 확인\n",
    "dupl = summary['고객ID'].duplicated().any()\n",
    "if dupl:\n",
    "    print('중복')\n",
    "else:\n",
    "    print('중복아님')"
   ]
  },
  {
   "cell_type": "code",
   "execution_count": 43,
   "id": "4172bbc5-a74b-49b4-96dd-f9b3d597b901",
   "metadata": {},
   "outputs": [],
   "source": [
    "# 시각화 그리기 한글폰트 가가\n",
    "plt.rc(\"font\", family = \"Malgun Gothic\")\n",
    "sns.set(font=\"Malgun Gothic\", \n",
    "rc={\"axes.unicode_minus\":False}, style='white')"
   ]
  },
  {
   "cell_type": "code",
   "execution_count": 44,
   "id": "6ce505d4",
   "metadata": {},
   "outputs": [
    {
     "data": {
      "text/html": [
       "<div>\n",
       "<style scoped>\n",
       "    .dataframe tbody tr th:only-of-type {\n",
       "        vertical-align: middle;\n",
       "    }\n",
       "\n",
       "    .dataframe tbody tr th {\n",
       "        vertical-align: top;\n",
       "    }\n",
       "\n",
       "    .dataframe thead th {\n",
       "        text-align: right;\n",
       "    }\n",
       "</style>\n",
       "<table border=\"1\" class=\"dataframe\">\n",
       "  <thead>\n",
       "    <tr style=\"text-align: right;\">\n",
       "      <th></th>\n",
       "      <th>고객ID</th>\n",
       "      <th>마지막 거래년월</th>\n",
       "      <th>거래이후소요기간</th>\n",
       "      <th>이탈여부</th>\n",
       "      <th>연령대</th>\n",
       "    </tr>\n",
       "  </thead>\n",
       "  <tbody>\n",
       "    <tr>\n",
       "      <th>0</th>\n",
       "      <td>6503145269</td>\n",
       "      <td>202201</td>\n",
       "      <td>10</td>\n",
       "      <td>이탈</td>\n",
       "      <td>60대이상</td>\n",
       "    </tr>\n",
       "    <tr>\n",
       "      <th>1</th>\n",
       "      <td>5041154752</td>\n",
       "      <td>202201</td>\n",
       "      <td>10</td>\n",
       "      <td>이탈</td>\n",
       "      <td>40대</td>\n",
       "    </tr>\n",
       "    <tr>\n",
       "      <th>2</th>\n",
       "      <td>5325693421</td>\n",
       "      <td>202201</td>\n",
       "      <td>10</td>\n",
       "      <td>이탈</td>\n",
       "      <td>60대이상</td>\n",
       "    </tr>\n",
       "    <tr>\n",
       "      <th>3</th>\n",
       "      <td>6557853606</td>\n",
       "      <td>202201</td>\n",
       "      <td>10</td>\n",
       "      <td>이탈</td>\n",
       "      <td>40대</td>\n",
       "    </tr>\n",
       "    <tr>\n",
       "      <th>4</th>\n",
       "      <td>7875215733</td>\n",
       "      <td>202201</td>\n",
       "      <td>10</td>\n",
       "      <td>이탈</td>\n",
       "      <td>60대이상</td>\n",
       "    </tr>\n",
       "    <tr>\n",
       "      <th>...</th>\n",
       "      <td>...</td>\n",
       "      <td>...</td>\n",
       "      <td>...</td>\n",
       "      <td>...</td>\n",
       "      <td>...</td>\n",
       "    </tr>\n",
       "    <tr>\n",
       "      <th>728732</th>\n",
       "      <td>3605837880</td>\n",
       "      <td>202211</td>\n",
       "      <td>0</td>\n",
       "      <td>유지</td>\n",
       "      <td>20대</td>\n",
       "    </tr>\n",
       "    <tr>\n",
       "      <th>728733</th>\n",
       "      <td>3557972915</td>\n",
       "      <td>202211</td>\n",
       "      <td>0</td>\n",
       "      <td>유지</td>\n",
       "      <td>20대</td>\n",
       "    </tr>\n",
       "    <tr>\n",
       "      <th>728734</th>\n",
       "      <td>3083154411</td>\n",
       "      <td>202211</td>\n",
       "      <td>0</td>\n",
       "      <td>유지</td>\n",
       "      <td>20대</td>\n",
       "    </tr>\n",
       "    <tr>\n",
       "      <th>728735</th>\n",
       "      <td>9963103588</td>\n",
       "      <td>202211</td>\n",
       "      <td>0</td>\n",
       "      <td>유지</td>\n",
       "      <td>50대</td>\n",
       "    </tr>\n",
       "    <tr>\n",
       "      <th>728736</th>\n",
       "      <td>5691296018</td>\n",
       "      <td>202211</td>\n",
       "      <td>0</td>\n",
       "      <td>유지</td>\n",
       "      <td>20대</td>\n",
       "    </tr>\n",
       "  </tbody>\n",
       "</table>\n",
       "<p>728737 rows × 5 columns</p>\n",
       "</div>"
      ],
      "text/plain": [
       "              고객ID  마지막 거래년월  거래이후소요기간 이탈여부    연령대\n",
       "0       6503145269    202201        10   이탈  60대이상\n",
       "1       5041154752    202201        10   이탈    40대\n",
       "2       5325693421    202201        10   이탈  60대이상\n",
       "3       6557853606    202201        10   이탈    40대\n",
       "4       7875215733    202201        10   이탈  60대이상\n",
       "...            ...       ...       ...  ...    ...\n",
       "728732  3605837880    202211         0   유지    20대\n",
       "728733  3557972915    202211         0   유지    20대\n",
       "728734  3083154411    202211         0   유지    20대\n",
       "728735  9963103588    202211         0   유지    50대\n",
       "728736  5691296018    202211         0   유지    20대\n",
       "\n",
       "[728737 rows x 5 columns]"
      ]
     },
     "execution_count": 44,
     "metadata": {},
     "output_type": "execute_result"
    }
   ],
   "source": [
    "last"
   ]
  },
  {
   "cell_type": "code",
   "execution_count": 45,
   "id": "d5180f09-1a04-4e45-94ff-a575d91b99e9",
   "metadata": {},
   "outputs": [
    {
     "data": {
      "image/png": "[encoded data removed]",
      "text/plain": [
       "<Figure size 1300x600 with 2 Axes>"
      ]
     },
     "metadata": {},
     "output_type": "display_data"
    }
   ],
   "source": [
    "fig, ax = plt.subplots(figsize = (13,6), ncols=2)\n",
    "sns.barplot(summary, x='연령대', y = '고객ID', hue='이탈여부', ax=ax[0])\n",
    "sns.barplot(summary, x='연령대', y = '비율', hue='이탈여부', ax=ax[1])\n",
    "\n",
    "ax[0].set_title(f'{YEAR}년 연령대별 수', )\n",
    "ax[1].set_title(f'{YEAR}년 연령대별 이탈 비율 (각연령대별 수 / 이탈여부별 합)')\n",
    "plt.show()"
   ]
  },
  {
   "cell_type": "code",
   "execution_count": 46,
   "id": "1df3db76-9bb1-49c2-8e58-d10c8cbcb275",
   "metadata": {},
   "outputs": [],
   "source": [
    "last.to_csv(f'../dataset/summary_{YEAR}.csv', index=False, encoding=\"utf-8-sig\")"
   ]
  }
 ],
 "metadata": {
  "kernelspec": {
   "display_name": "venv",
   "language": "python",
   "name": "python3"
  },
  "language_info": {
   "codemirror_mode": {
    "name": "ipython",
    "version": 3
   },
   "file_extension": ".py",
   "mimetype": "text/x-python",
   "name": "python",
   "nbconvert_exporter": "python",
   "pygments_lexer": "ipython3",
   "version": "3.12.6"
  }
 },
 "nbformat": 4,
 "nbformat_minor": 5
}
