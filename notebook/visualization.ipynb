{
 "cells": [
  {
   "cell_type": "code",
   "execution_count": 18,
   "metadata": {},
   "outputs": [],
   "source": [
    "import pandas as pd\n",
    "import matplotlib.pyplot as plt\n",
    "import seaborn as sns\n",
    "\n",
    "plt.rcParams['font.family'] = 'Malgun Gothic'"
   ]
  },
  {
   "cell_type": "code",
   "execution_count": null,
   "metadata": {},
   "outputs": [],
   "source": [
    "data = pd.read_csv('../dataset/00_data.csv')"
   ]
  },
  {
   "cell_type": "code",
   "execution_count": 31,
   "metadata": {},
   "outputs": [
    {
     "data": {
      "text/html": [
       "<div>\n",
       "<style scoped>\n",
       "    .dataframe tbody tr th:only-of-type {\n",
       "        vertical-align: middle;\n",
       "    }\n",
       "\n",
       "    .dataframe tbody tr th {\n",
       "        vertical-align: top;\n",
       "    }\n",
       "\n",
       "    .dataframe thead th {\n",
       "        text-align: right;\n",
       "    }\n",
       "</style>\n",
       "<table border=\"1\" class=\"dataframe\">\n",
       "  <thead>\n",
       "    <tr style=\"text-align: right;\">\n",
       "      <th></th>\n",
       "      <th>Unnamed: 0</th>\n",
       "      <th>기준년월</th>\n",
       "      <th>고객ID</th>\n",
       "      <th>연령대</th>\n",
       "      <th>수신_요구불예금</th>\n",
       "      <th>수신_거치식예금</th>\n",
       "      <th>수신_적립식예금</th>\n",
       "      <th>수신_펀드</th>\n",
       "      <th>대출금액</th>\n",
       "      <th>총자산</th>\n",
       "      <th>총자산평균</th>\n",
       "    </tr>\n",
       "  </thead>\n",
       "  <tbody>\n",
       "    <tr>\n",
       "      <th>0</th>\n",
       "      <td>0</td>\n",
       "      <td>202312</td>\n",
       "      <td>9999998161</td>\n",
       "      <td>60대이상</td>\n",
       "      <td>300000</td>\n",
       "      <td>0</td>\n",
       "      <td>0</td>\n",
       "      <td>0</td>\n",
       "      <td>0</td>\n",
       "      <td>300000</td>\n",
       "      <td>5.416667e+05</td>\n",
       "    </tr>\n",
       "    <tr>\n",
       "      <th>1</th>\n",
       "      <td>1</td>\n",
       "      <td>202312</td>\n",
       "      <td>9999997589</td>\n",
       "      <td>60대이상</td>\n",
       "      <td>0</td>\n",
       "      <td>0</td>\n",
       "      <td>0</td>\n",
       "      <td>0</td>\n",
       "      <td>0</td>\n",
       "      <td>0</td>\n",
       "      <td>0.000000e+00</td>\n",
       "    </tr>\n",
       "    <tr>\n",
       "      <th>2</th>\n",
       "      <td>2</td>\n",
       "      <td>202312</td>\n",
       "      <td>9999991579</td>\n",
       "      <td>60대이상</td>\n",
       "      <td>0</td>\n",
       "      <td>33000000</td>\n",
       "      <td>0</td>\n",
       "      <td>0</td>\n",
       "      <td>0</td>\n",
       "      <td>33000000</td>\n",
       "      <td>3.300000e+07</td>\n",
       "    </tr>\n",
       "    <tr>\n",
       "      <th>3</th>\n",
       "      <td>3</td>\n",
       "      <td>202312</td>\n",
       "      <td>9999989448</td>\n",
       "      <td>60대이상</td>\n",
       "      <td>400000</td>\n",
       "      <td>0</td>\n",
       "      <td>0</td>\n",
       "      <td>0</td>\n",
       "      <td>0</td>\n",
       "      <td>400000</td>\n",
       "      <td>4.000000e+05</td>\n",
       "    </tr>\n",
       "    <tr>\n",
       "      <th>4</th>\n",
       "      <td>4</td>\n",
       "      <td>202312</td>\n",
       "      <td>9999988325</td>\n",
       "      <td>60대이상</td>\n",
       "      <td>2800000</td>\n",
       "      <td>0</td>\n",
       "      <td>0</td>\n",
       "      <td>0</td>\n",
       "      <td>0</td>\n",
       "      <td>2800000</td>\n",
       "      <td>2.800000e+06</td>\n",
       "    </tr>\n",
       "  </tbody>\n",
       "</table>\n",
       "</div>"
      ],
      "text/plain": [
       "   Unnamed: 0    기준년월        고객ID    연령대  수신_요구불예금  수신_거치식예금  수신_적립식예금  수신_펀드  \\\n",
       "0           0  202312  9999998161  60대이상    300000         0         0      0   \n",
       "1           1  202312  9999997589  60대이상         0         0         0      0   \n",
       "2           2  202312  9999991579  60대이상         0  33000000         0      0   \n",
       "3           3  202312  9999989448  60대이상    400000         0         0      0   \n",
       "4           4  202312  9999988325  60대이상   2800000         0         0      0   \n",
       "\n",
       "   대출금액       총자산         총자산평균  \n",
       "0     0    300000  5.416667e+05  \n",
       "1     0         0  0.000000e+00  \n",
       "2     0  33000000  3.300000e+07  \n",
       "3     0    400000  4.000000e+05  \n",
       "4     0   2800000  2.800000e+06  "
      ]
     },
     "execution_count": 31,
     "metadata": {},
     "output_type": "execute_result"
    }
   ],
   "source": [
    "data.head()"
   ]
  },
  {
   "cell_type": "code",
   "execution_count": 32,
   "metadata": {},
   "outputs": [],
   "source": [
    "# 연령대별 평균\n",
    "data['총자산평균'] = data.groupby('고객ID')['총자산'].transform('mean')\n",
    "data['요구불평균'] = data.groupby('고객ID')['수신_요구불예금'].transform('mean')\n",
    "data['거치평균'] = data.groupby('고객ID')['수신_거치식예금'].transform('mean')\n",
    "data['적립산평균'] = data.groupby('고객ID')['수신_적립식예금'].transform('mean')\n",
    "data['펀드평균'] = data.groupby('고객ID')['수신_펀드'].transform('mean')\n",
    "data['대출평균'] = data.groupby('고객ID')['대출금액'].transform('mean')"
   ]
  },
  {
   "cell_type": "code",
   "execution_count": 33,
   "metadata": {},
   "outputs": [
    {
     "data": {
      "text/plain": [
       "Index(['Unnamed: 0', '기준년월', '고객ID', '연령대', '수신_요구불예금', '수신_거치식예금', '수신_적립식예금',\n",
       "       '수신_펀드', '대출금액', '총자산', '총자산평균', '요구불평균', '거치평균', '적립산평균', '펀드평균',\n",
       "       '대출평균'],\n",
       "      dtype='object')"
      ]
     },
     "execution_count": 33,
     "metadata": {},
     "output_type": "execute_result"
    }
   ],
   "source": [
    "data.columns"
   ]
  },
  {
   "cell_type": "code",
   "execution_count": 34,
   "metadata": {},
   "outputs": [],
   "source": [
    "df = data[['고객ID', '연령대', '총자산평균', '요구불평균', '거치평균', '적립산평균', '펀드평균','대출평균']]"
   ]
  },
  {
   "cell_type": "code",
   "execution_count": 35,
   "metadata": {},
   "outputs": [],
   "source": [
    "df=df.drop_duplicates()"
   ]
  },
  {
   "cell_type": "code",
   "execution_count": null,
   "metadata": {},
   "outputs": [],
   "source": [
    "df['연령평균총자산'] = df.groupby('연령대')['총자산평균'].transform('mean')"
   ]
  },
  {
   "cell_type": "code",
   "execution_count": 41,
   "metadata": {},
   "outputs": [],
   "source": [
    "df_m = df[['연령대', '연령평균총자산']].drop_duplicates()"
   ]
  },
  {
   "cell_type": "code",
   "execution_count": 42,
   "metadata": {},
   "outputs": [
    {
     "data": {
      "image/png": "[encoded data removed]",
      "text/plain": [
       "<Figure size 640x480 with 1 Axes>"
      ]
     },
     "metadata": {},
     "output_type": "display_data"
    }
   ],
   "source": [
    "sns.barplot(df_m, x = '연령대', y ='연령평균총자산') # Bar 자산비율\n",
    "# plt.xlim(0,20000)\n",
    "# plt.ylim(0, 25000000)\n",
    "plt.show()"
   ]
  },
  {
   "cell_type": "code",
   "execution_count": null,
   "metadata": {},
   "outputs": [],
   "source": []
  }
 ],
 "metadata": {
  "kernelspec": {
   "display_name": "venv",
   "language": "python",
   "name": "python3"
  },
  "language_info": {
   "codemirror_mode": {
    "name": "ipython",
    "version": 3
   },
   "file_extension": ".py",
   "mimetype": "text/x-python",
   "name": "python",
   "nbconvert_exporter": "python",
   "pygments_lexer": "ipython3",
   "version": "3.12.6"
  }
 },
 "nbformat": 4,
 "nbformat_minor": 2
}
