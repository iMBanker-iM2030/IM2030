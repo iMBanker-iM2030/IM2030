{
 "cells": [
  {
   "cell_type": "code",
   "execution_count": null,
   "metadata": {},
   "outputs": [],
   "source": [
    "import pandas as pd\n",
    "import numpy as np"
   ]
  },
  {
   "cell_type": "code",
   "execution_count": null,
   "metadata": {},
   "outputs": [],
   "source": [
    "YEAR = 2021"
   ]
  },
  {
   "cell_type": "code",
   "execution_count": null,
   "metadata": {},
   "outputs": [],
   "source": [
    "df = pd.read_csv(f'../dataset/summary_{YEAR}.csv', encoding='utf-8-sig')\n",
    "\n",
    "def read_file(year):\n",
    "    PATH = f'../dataset/imbank_customer_data/iMBANK_CUSTOMER_DATA_{year}(K-DigitalTraining).csv'\n",
    "    df = pd.read_csv(PATH, encoding='euc-kr', usecols=['기준년월', '고객ID', '성별', '고객등급', '자택_시도', '수신_요구불예금', '수신_거치식예금', '수신_적립식예금', '대출금액'])\n",
    "    df = df.sort_values(by='기준년월', ascending=True).reset_index(drop=True)\n",
    "    return df\n",
    "\n",
    "M_CS_2022 = read_file(YEAR)\n",
    "\n",
    "# 고객 id \n",
    "filtered_data = df[df['연령대'].isin(['20대', '30대'])]['고객ID'].unique()\n",
    "\n",
    "# 20, 30대의 고객 ID만 뽑음\n",
    "M_filtered_data = M_CS_2022[M_CS_2022['고객ID'].isin(filtered_data)]\n",
    "\n",
    "# 수신잔고, sum(요구불 ~ 적립식)\n",
    "M_filtered_data['수신잔고'] = M_filtered_data.groupby(['기준년월','고객ID'])[['수신_요구불예금', '수신_거치식예금', '수신_적립식예금']].transform('sum').sum(axis=1)\n",
    "\n",
    "# 지역구분 대구, 경상북도 => 1, 나머지 => 0\n",
    "M_filtered_data['지역구분'] = np.where(M_filtered_data['자택_시도'].isin(['대구광역시', '경상북도']), 1, 0)                                                                \n",
    "\n",
    "# 수신대비대출비율\n",
    "M_filtered_data['수신대비대출비율'] = np.where(M_filtered_data['수신잔고'] != 0, M_filtered_data['대출금액'] / M_filtered_data['수신잔고'], 0)\n",
    "\n",
    "result = M_filtered_data.merge(df[['고객ID', '연령대', '이탈여부']], on='고객ID', how='left')\n",
    "result"
   ]
  },
  {
   "cell_type": "code",
   "execution_count": null,
   "metadata": {},
   "outputs": [],
   "source": [
    "def read_file1(year):\n",
    "    PATH = f'./datasetlast/iMBANK_CARD_DATA_2021(K-DigitalTraining)/iMBANK_CARD_DATA_2021(K-DigitalTraining).csv'\n",
    "    df = pd.read_csv(PATH, encoding='euc-kr', usecols=['거래년월','고객ID','승인건수','승인금액'])\n",
    "    df = df.sort_values(by='거래년월', ascending=True).reset_index(drop=True)\n",
    "    # 승인건수를 숫자로 변환 (필요한 경우 오류 처리)\n",
    "    \n",
    "    # 승인건수를 범주화\n",
    "    df.loc[df['승인건수'] == '5번이하', '승인건수'] = 1\n",
    "    df.loc[df['승인건수'] == '5번초과 10번이하', '승인건수'] = 2\n",
    "    df.loc[df['승인건수'] == '10번초과 15번이하', '승인건수'] = 3\n",
    "    df.loc[df['승인건수'] == '15번초과 20번이하', '승인건수'] = 4\n",
    "    df.loc[df['승인건수'] == '20번 초과', '승인건수'] = 5\n",
    "\n",
    "    df['월별승인금액합계'] = df.groupby(['거래년월','고객ID'])['승인금액'].transform('sum')\n",
    "    \n",
    "    return df\n",
    "\n",
    "C_2021 = read_file1(2021)"
   ]
  }
 ],
 "metadata": {
  "kernelspec": {
   "display_name": "env",
   "language": "python",
   "name": "python3"
  },
  "language_info": {
   "name": "python",
   "version": "3.12.6"
  }
 },
 "nbformat": 4,
 "nbformat_minor": 2
}
