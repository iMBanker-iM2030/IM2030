{
 "cells": [
  {
   "cell_type": "code",
   "execution_count": 68,
   "metadata": {},
   "outputs": [],
   "source": [
    "import pandas as pd\n",
    "import numpy as np"
   ]
  },
  {
   "cell_type": "code",
   "execution_count": 69,
   "metadata": {},
   "outputs": [],
   "source": [
    "YEAR = 2023\n",
    "TARGET = 'customer'\n",
    "PATH = f'../dataset/imbank_{TARGET.lower()}_data/iMBANK_{TARGET.upper()}_DATA_{YEAR}(K-DigitalTraining).csv'\n",
    "df = pd.read_csv(PATH, encoding='euc-kr')"
   ]
  },
  {
   "cell_type": "code",
   "execution_count": 70,
   "metadata": {},
   "outputs": [],
   "source": [
    "customer = df[['기준년월', '고객ID']]\n",
    "customer=customer.drop_duplicates()\n",
    "a1 = customer.groupby('고객ID')['기준년월'].min()\n",
    "a2 = customer.groupby('고객ID')['기준년월'].max()\n",
    "customer=pd.merge(a1, a2, how='left', on='고객ID')\n",
    "customer.columns = ['최초', '최후']\n",
    "del a1, a2\n",
    "customer = customer.reset_index()\n",
    "case1 = customer[(customer['최초'] == int(f'{YEAR}01')) & (customer['최후'] == int(f'{YEAR}12'))] # 관찰대상 12개월 다 존재\n",
    "# 이탈\n",
    "case2 = customer[(customer['최초'] == int(f'{YEAR}01')) & (customer['최후'] != int(f'{YEAR}12'))]\n",
    "# 신규가입\n",
    "case3 = customer[(customer['최초'] != int(f'{YEAR}01')) & (customer['최후'] == int(f'{YEAR}12'))]\n",
    "\n",
    "ids = np.concatenate((case1['고객ID'],case2['고객ID'],case3['고객ID']))\n",
    "# 가입 및 이탈 (이탈로로)\n",
    "case4=customer[~customer['고객ID'].isin(ids)]"
   ]
  },
  {
   "cell_type": "code",
   "execution_count": 71,
   "metadata": {},
   "outputs": [],
   "source": [
    "# 신규ID, 이탈ID\n",
    "ids_new=case3['고객ID']"
   ]
  },
  {
   "cell_type": "code",
   "execution_count": 72,
   "metadata": {},
   "outputs": [],
   "source": [
    "ids_leave =  np.concatenate((case2['고객ID'],case4['고객ID']))"
   ]
  },
  {
   "cell_type": "code",
   "execution_count": 73,
   "metadata": {},
   "outputs": [],
   "source": [
    "# 1. '지역구분' 컬럼을 0으로 초기화\n",
    "df['지역구분'] = 0\n",
    "\n",
    "# 2. '자택_시도'가 '대구광역시' 또는 '경상북도'인 경우 '지역구분'을 1로 설정\n",
    "df.loc[df['자택_시도'].isin(['대구광역시', '경상북도']), '지역구분'] = 1"
   ]
  },
  {
   "cell_type": "code",
   "execution_count": 74,
   "metadata": {},
   "outputs": [
    {
     "data": {
      "text/plain": [
       "지역구분\n",
       "0    98737\n",
       "1    29375\n",
       "Name: count, dtype: int64"
      ]
     },
     "execution_count": 74,
     "metadata": {},
     "output_type": "execute_result"
    }
   ],
   "source": [
    "df[df['고객ID'].isin(ids_new)].drop_duplicates('고객ID')['지역구분'].value_counts()"
   ]
  },
  {
   "cell_type": "code",
   "execution_count": 75,
   "metadata": {},
   "outputs": [
    {
     "data": {
      "text/plain": [
       "지역구분\n",
       "0     6180\n",
       "1    16256\n",
       "Name: count, dtype: int64"
      ]
     },
     "execution_count": 75,
     "metadata": {},
     "output_type": "execute_result"
    }
   ],
   "source": [
    "df[df['고객ID'].isin(ids_leave)].drop_duplicates('고객ID')['지역구분'].value_counts().sort_index()"
   ]
  },
  {
   "cell_type": "code",
   "execution_count": 76,
   "metadata": {},
   "outputs": [
    {
     "data": {
      "text/plain": [
       "연령대\n",
       "10대미만     6100\n",
       "20대      36123\n",
       "30대      30336\n",
       "40대      26237\n",
       "50대      18491\n",
       "60대이상    10825\n",
       "Name: count, dtype: int64"
      ]
     },
     "execution_count": 76,
     "metadata": {},
     "output_type": "execute_result"
    }
   ],
   "source": [
    "df[df['고객ID'].isin(ids_new)].drop_duplicates('고객ID')['연령대'].value_counts().sort_index()"
   ]
  },
  {
   "cell_type": "code",
   "execution_count": 77,
   "metadata": {},
   "outputs": [
    {
     "data": {
      "text/plain": [
       "연령대\n",
       "10대미만      15\n",
       "20대       952\n",
       "30대      4422\n",
       "40대      5641\n",
       "50대      5790\n",
       "60대이상    5616\n",
       "Name: count, dtype: int64"
      ]
     },
     "execution_count": 77,
     "metadata": {},
     "output_type": "execute_result"
    }
   ],
   "source": [
    "df[df['고객ID'].isin(ids_leave)].drop_duplicates('고객ID')['연령대'].value_counts().sort_index()"
   ]
  },
  {
   "cell_type": "code",
   "execution_count": 78,
   "metadata": {},
   "outputs": [
    {
     "data": {
      "text/plain": [
       "자택_시도\n",
       "강원특별자치도       30\n",
       "경기도         2628\n",
       "경상남도         292\n",
       "경상북도        3695\n",
       "광주광역시         23\n",
       "대구광역시      12561\n",
       "대전광역시        472\n",
       "부산광역시        446\n",
       "서울특별시       1033\n",
       "세종특별자치시       93\n",
       "울산광역시        153\n",
       "인천광역시        372\n",
       "전라남도          16\n",
       "전북특별자치도       13\n",
       "제주특별자치도       18\n",
       "충청남도          63\n",
       "충청북도         528\n",
       "Name: count, dtype: int64"
      ]
     },
     "execution_count": 78,
     "metadata": {},
     "output_type": "execute_result"
    }
   ],
   "source": [
    "df[df['고객ID'].isin(ids_leave)].drop_duplicates('고객ID')['자택_시도'].value_counts().sort_index()"
   ]
  },
  {
   "cell_type": "code",
   "execution_count": 79,
   "metadata": {},
   "outputs": [
    {
     "data": {
      "text/plain": [
       "자택_시도\n",
       "강원특별자치도     2595\n",
       "경기도        30389\n",
       "경상남도        6433\n",
       "경상북도       11193\n",
       "광주광역시       3081\n",
       "대구광역시      18182\n",
       "대전광역시       3204\n",
       "부산광역시       7570\n",
       "서울특별시      21450\n",
       "세종특별자치시      574\n",
       "울산광역시       2159\n",
       "인천광역시       7932\n",
       "전라남도        2267\n",
       "전북특별자치도     2427\n",
       "제주특별자치도     1489\n",
       "충청남도        3997\n",
       "충청북도        3170\n",
       "Name: count, dtype: int64"
      ]
     },
     "execution_count": 79,
     "metadata": {},
     "output_type": "execute_result"
    }
   ],
   "source": [
    "df[df['고객ID'].isin(ids_new)].drop_duplicates('고객ID')['자택_시도'].value_counts().sort_index()"
   ]
  }
 ],
 "metadata": {
  "kernelspec": {
   "display_name": "venv",
   "language": "python",
   "name": "python3"
  },
  "language_info": {
   "codemirror_mode": {
    "name": "ipython",
    "version": 3
   },
   "file_extension": ".py",
   "mimetype": "text/x-python",
   "name": "python",
   "nbconvert_exporter": "python",
   "pygments_lexer": "ipython3",
   "version": "3.12.6"
  }
 },
 "nbformat": 4,
 "nbformat_minor": 2
}
