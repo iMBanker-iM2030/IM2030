{
 "cells": [
  {
   "cell_type": "code",
   "execution_count": null,
   "metadata": {
    "vscode": {
     "languageId": "plaintext"
    }
   },
   "outputs": [],
   "source": [
    "import pandas as pd"
   ]
  },
  {
   "cell_type": "code",
   "execution_count": null,
   "metadata": {
    "vscode": {
     "languageId": "plaintext"
    }
   },
   "outputs": [],
   "source": [
    "cs_churn=cs[cs['이탈여부']=='이탈']\n",
    "cs_non = cs[cs['이탈여부']=='유지']\n",
    "\n",
    "# 이상치 비율 확인\n",
    "# 1분위\n",
    "q1_churn = cs_churn[cs_churn['이탈여부']=='이탈'][TARGET].quantile(q=0.25)\n",
    "# 3분위\n",
    "q3_churn = cs_churn[cs_churn['이탈여부']=='이탈'][TARGET].quantile(q=0.75)\n",
    "IQR =  q3_churn - q1_churn\n",
    "\n",
    "q1 = cs_non[[TARGET]].quantile(q=0.25)\n",
    "q3 = cs_non[[TARGET]].quantile(q=0.75)"
   ]
  }
 ],
 "metadata": {
  "language_info": {
   "name": "python"
  }
 },
 "nbformat": 4,
 "nbformat_minor": 2
}
